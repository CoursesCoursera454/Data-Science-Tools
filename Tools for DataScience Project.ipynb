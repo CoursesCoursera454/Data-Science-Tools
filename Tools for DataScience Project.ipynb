{
 "cells": [
  {
   "cell_type": "markdown",
   "id": "030a7a3c-a883-4903-8be0-cf1f6ce529ea",
   "metadata": {},
   "source": [
    "# Tools for DataScience project"
   ]
  },
  {
   "cell_type": "markdown",
   "id": "fa6c9f88-732d-4070-a7c2-8f9f39973dfe",
   "metadata": {},
   "source": [
    "This is basic project showcasing skills of tools for datascience.\r\n",
    "Project will be developed in Jupyter notebook.\r\n"
   ]
  },
  {
   "cell_type": "raw",
   "id": "f05ceba1-284e-4d48-ac58-24a3551fb3a4",
   "metadata": {},
   "source": [
    "Most common languages for datascience are:\r\n",
    "-\tPython\r\n",
    "-\tR\r\n",
    "-\tJulia\r\n",
    "-\tScala\r\n",
    "-\tJava\r\n",
    "-\tSQL\r\n",
    "-\tEtc.\r\n"
   ]
  },
  {
   "cell_type": "raw",
   "id": "1533a7b8-973e-44c8-afa2-91831ea852f1",
   "metadata": {},
   "source": [
    "Data science libraries in python are:\n",
    "-\tSklearn\n",
    "-\tPytorch\n",
    "-\tKeras\n",
    "-\tTensorflow\n"
   ]
  },
  {
   "cell_type": "raw",
   "id": "1935f451-7241-4454-b4c5-67734132018e",
   "metadata": {},
   "source": [
    "Data science technologies:\n",
    "-\tTensorFlow\n",
    "-\tApache Spark\n",
    "-\tSAS\n",
    "-\tPython\n",
    "-\tR\n"
   ]
  },
  {
   "cell_type": "raw",
   "id": "c853dd5b-bb9b-4c17-b772-1ccb70963f62",
   "metadata": {},
   "source": [
    "Python provides basic arithmetic operations by default. Basic operations are performed in mathematical order and using operator precedence is to remember the word pemdas, which is an acronym for: parentheses, exponents, multiplication, division, addition, subtraction.\n",
    "\n",
    "Example of addition:\n",
    "\n",
    "X = A + B"
   ]
  },
  {
   "cell_type": "code",
   "execution_count": 6,
   "id": "5a0c101f-a230-4ace-ad03-28cb0d58fa8b",
   "metadata": {},
   "outputs": [
    {
     "data": {
      "text/plain": [
       "36"
      ]
     },
     "execution_count": 6,
     "metadata": {},
     "output_type": "execute_result"
    }
   ],
   "source": [
    "# Addition\n",
    "\n",
    "2 + 3\n",
    "\n",
    "# Multiplication\n",
    "6 * 6"
   ]
  },
  {
   "cell_type": "code",
   "execution_count": 4,
   "id": "8f941194-fac1-4c96-b5e5-e9cadfdf5dcb",
   "metadata": {},
   "outputs": [
    {
     "name": "stdout",
     "output_type": "stream",
     "text": [
      "Number of minutes 360 converts to hours 6.0\n"
     ]
    }
   ],
   "source": [
    "def conversion(minutes_in):\n",
    "    return round(minutes_in/60,1)\n",
    "\n",
    "minutes = 360\n",
    "\n",
    "hours = conversion(minutes)\n",
    "\n",
    "print(\"Number of minutes\", minutes, \"converts to hours\", hours)"
   ]
  },
  {
   "cell_type": "raw",
   "id": "e123a068-e1f1-4114-a8ab-127a7524dc36",
   "metadata": {},
   "source": [
    "Main objectives of this project are:\n",
    "-\tDemonstrate skills working with Jupyter notebook\n",
    "-\tDemonstrate basic skills with python language\n",
    "-\tUploading projects to Github\n"
   ]
  },
  {
   "cell_type": "markdown",
   "id": "bddd6b50-6fc1-4ac5-9a41-5dac760444f5",
   "metadata": {},
   "source": [
    "Author: Vladimir Benda"
   ]
  },
  {
   "cell_type": "code",
   "execution_count": null,
   "id": "e5f13851-9f75-45ea-8c7b-df78c739cd8d",
   "metadata": {},
   "outputs": [],
   "source": []
  }
 ],
 "metadata": {
  "kernelspec": {
   "display_name": "Python [conda env:base] *",
   "language": "python",
   "name": "conda-base-py"
  },
  "language_info": {
   "codemirror_mode": {
    "name": "ipython",
    "version": 3
   },
   "file_extension": ".py",
   "mimetype": "text/x-python",
   "name": "python",
   "nbconvert_exporter": "python",
   "pygments_lexer": "ipython3",
   "version": "3.11.7"
  }
 },
 "nbformat": 4,
 "nbformat_minor": 5
}
